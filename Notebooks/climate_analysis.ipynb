{
 "cells": [
  {
   "cell_type": "code",
   "execution_count": 17,
   "metadata": {},
   "outputs": [],
   "source": [
    "# Import Dependencies\n",
    "import matplotlib\n",
    "from matplotlib import style\n",
    "import matplotlib.pyplot as plt\n",
    "\n",
    "import pandas as pd\n",
    "import numpy as np\n",
    "\n",
    " # Import SQLAlchemy `automap` and other dependencies here\n",
    "import sqlalchemy\n",
    "from sqlalchemy.ext.automap import automap_base\n",
    "from sqlalchemy.orm import Session\n",
    "from sqlalchemy import create_engine, inspect, func\n",
    "\n",
    "# Import datetime\n",
    "import datetime as dt"
   ]
  },
  {
   "cell_type": "code",
   "execution_count": 3,
   "metadata": {},
   "outputs": [],
   "source": [
    " # Create an engine for the `hawaii.sqlite` database\n",
    "engine = create_engine(\"sqlite:///hawaii.sqlite\", echo=False)"
   ]
  },
  {
   "cell_type": "code",
   "execution_count": 4,
   "metadata": {},
   "outputs": [],
   "source": [
    "# Prepare and Reflect the Database using Base\n",
    "Base = automap_base()\n",
    "Base.prepare(engine, reflect=True)"
   ]
  },
  {
   "cell_type": "code",
   "execution_count": 5,
   "metadata": {},
   "outputs": [
    {
     "data": {
      "text/plain": [
       "['measurements', 'station']"
      ]
     },
     "execution_count": 5,
     "metadata": {},
     "output_type": "execute_result"
    }
   ],
   "source": [
    "# Print all the class mapped to the Base\n",
    "Base.classes.keys()"
   ]
  },
  {
   "cell_type": "code",
   "execution_count": 6,
   "metadata": {},
   "outputs": [
    {
     "data": {
      "text/plain": [
       "['measurements', 'station']"
      ]
     },
     "execution_count": 6,
     "metadata": {},
     "output_type": "execute_result"
    }
   ],
   "source": [
    "# Create inspector and connect it to the engine\n",
    "inspector = inspect(engine)\n",
    "\n",
    "# Collect the names of tables within the database\n",
    "inspector.get_table_names()"
   ]
  },
  {
   "cell_type": "code",
   "execution_count": 7,
   "metadata": {},
   "outputs": [
    {
     "data": {
      "text/plain": [
       "[(1, 'USC00519397', '2010-01-01', 0.08, 65.0),\n",
       " (2, 'USC00519397', '2010-01-02', 0.0, 63.0),\n",
       " (3, 'USC00519397', '2010-01-03', 0.0, 74.0),\n",
       " (4, 'USC00519397', '2010-01-04', 0.0, 76.0),\n",
       " (5, 'USC00519397', '2010-01-07', 0.06, 70.0),\n",
       " (6, 'USC00519397', '2010-01-08', 0.0, 64.0),\n",
       " (7, 'USC00519397', '2010-01-09', 0.0, 68.0),\n",
       " (8, 'USC00519397', '2010-01-10', 0.0, 73.0),\n",
       " (9, 'USC00519397', '2010-01-11', 0.01, 64.0),\n",
       " (10, 'USC00519397', '2010-01-12', 0.0, 61.0)]"
      ]
     },
     "execution_count": 7,
     "metadata": {},
     "output_type": "execute_result"
    }
   ],
   "source": [
    "# Select and display the first 10 rows of the table\n",
    "engine.execute('SELECT * FROM measurements LIMIT 10').fetchall()"
   ]
  },
  {
   "cell_type": "code",
   "execution_count": 8,
   "metadata": {},
   "outputs": [],
   "source": [
    "# Reflect Database into ORM class\n",
    "Station = Base.classes.station\n",
    "Measurements = Base.classes.measurements"
   ]
  },
  {
   "cell_type": "code",
   "execution_count": 9,
   "metadata": {},
   "outputs": [],
   "source": [
    "# Start a session to query the database\n",
    "session = Session(engine)"
   ]
  },
  {
   "cell_type": "code",
   "execution_count": 10,
   "metadata": {},
   "outputs": [
    {
     "name": "stdout",
     "output_type": "stream",
     "text": [
      "(datetime.date(2017, 8, 23),)\n"
     ]
    }
   ],
   "source": [
    "# PRECIPITATION ANALYSIS\n",
    "\n",
    "# Grab last entry in table\n",
    "last_date = session.query(Measurements.date).order_by(Measurements.date.desc()).first()\n",
    "print(last_date)"
   ]
  },
  {
   "cell_type": "code",
   "execution_count": 11,
   "metadata": {},
   "outputs": [
    {
     "name": "stdout",
     "output_type": "stream",
     "text": [
      "2016-08-23\n"
     ]
    }
   ],
   "source": [
    "# Get the last 12 months of data, last date - 365\n",
    "last_year = dt.date(2017, 8, 23) - dt.timedelta(days=365)\n",
    "print(last_year)"
   ]
  },
  {
   "cell_type": "code",
   "execution_count": 12,
   "metadata": {},
   "outputs": [],
   "source": [
    "# Query to retrieve the last 12 months of precipitation data\n",
    "rain = session.query(Measurements.date, Measurements.prcp).\\\n",
    "    filter(Measurements.date > last_year).\\\n",
    "    order_by(Measurements.date).all()"
   ]
  },
  {
   "cell_type": "code",
   "execution_count": 13,
   "metadata": {},
   "outputs": [
    {
     "data": {
      "text/html": [
       "<div>\n",
       "<style scoped>\n",
       "    .dataframe tbody tr th:only-of-type {\n",
       "        vertical-align: middle;\n",
       "    }\n",
       "\n",
       "    .dataframe tbody tr th {\n",
       "        vertical-align: top;\n",
       "    }\n",
       "\n",
       "    .dataframe thead th {\n",
       "        text-align: right;\n",
       "    }\n",
       "</style>\n",
       "<table border=\"1\" class=\"dataframe\">\n",
       "  <thead>\n",
       "    <tr style=\"text-align: right;\">\n",
       "      <th></th>\n",
       "      <th>date</th>\n",
       "      <th>prcp</th>\n",
       "    </tr>\n",
       "  </thead>\n",
       "  <tbody>\n",
       "    <tr>\n",
       "      <th>0</th>\n",
       "      <td>2016-08-24</td>\n",
       "      <td>0.08</td>\n",
       "    </tr>\n",
       "    <tr>\n",
       "      <th>1</th>\n",
       "      <td>2016-08-24</td>\n",
       "      <td>2.15</td>\n",
       "    </tr>\n",
       "    <tr>\n",
       "      <th>2</th>\n",
       "      <td>2016-08-24</td>\n",
       "      <td>2.28</td>\n",
       "    </tr>\n",
       "    <tr>\n",
       "      <th>3</th>\n",
       "      <td>2016-08-24</td>\n",
       "      <td>1.22</td>\n",
       "    </tr>\n",
       "    <tr>\n",
       "      <th>4</th>\n",
       "      <td>2016-08-24</td>\n",
       "      <td>2.15</td>\n",
       "    </tr>\n",
       "  </tbody>\n",
       "</table>\n",
       "</div>"
      ],
      "text/plain": [
       "         date  prcp\n",
       "0  2016-08-24  0.08\n",
       "1  2016-08-24  2.15\n",
       "2  2016-08-24  2.28\n",
       "3  2016-08-24  1.22\n",
       "4  2016-08-24  2.15"
      ]
     },
     "execution_count": 13,
     "metadata": {},
     "output_type": "execute_result"
    }
   ],
   "source": [
    "# Load data from query to dataframe\n",
    "rain_df = pd.DataFrame(rain)\n",
    "rain_df.head()"
   ]
  },
  {
   "cell_type": "code",
   "execution_count": 14,
   "metadata": {},
   "outputs": [
    {
     "data": {
      "text/html": [
       "<div>\n",
       "<style scoped>\n",
       "    .dataframe tbody tr th:only-of-type {\n",
       "        vertical-align: middle;\n",
       "    }\n",
       "\n",
       "    .dataframe tbody tr th {\n",
       "        vertical-align: top;\n",
       "    }\n",
       "\n",
       "    .dataframe thead th {\n",
       "        text-align: right;\n",
       "    }\n",
       "</style>\n",
       "<table border=\"1\" class=\"dataframe\">\n",
       "  <thead>\n",
       "    <tr style=\"text-align: right;\">\n",
       "      <th></th>\n",
       "      <th>prcp</th>\n",
       "    </tr>\n",
       "    <tr>\n",
       "      <th>date</th>\n",
       "      <th></th>\n",
       "    </tr>\n",
       "  </thead>\n",
       "  <tbody>\n",
       "    <tr>\n",
       "      <th>2016-08-24</th>\n",
       "      <td>0.08</td>\n",
       "    </tr>\n",
       "    <tr>\n",
       "      <th>2016-08-24</th>\n",
       "      <td>2.15</td>\n",
       "    </tr>\n",
       "    <tr>\n",
       "      <th>2016-08-24</th>\n",
       "      <td>2.28</td>\n",
       "    </tr>\n",
       "    <tr>\n",
       "      <th>2016-08-24</th>\n",
       "      <td>1.22</td>\n",
       "    </tr>\n",
       "    <tr>\n",
       "      <th>2016-08-24</th>\n",
       "      <td>2.15</td>\n",
       "    </tr>\n",
       "  </tbody>\n",
       "</table>\n",
       "</div>"
      ],
      "text/plain": [
       "            prcp\n",
       "date            \n",
       "2016-08-24  0.08\n",
       "2016-08-24  2.15\n",
       "2016-08-24  2.28\n",
       "2016-08-24  1.22\n",
       "2016-08-24  2.15"
      ]
     },
     "execution_count": 14,
     "metadata": {},
     "output_type": "execute_result"
    }
   ],
   "source": [
    "# Reset index to date column\n",
    "rain_df.set_index('date').head()"
   ]
  },
  {
   "cell_type": "code",
   "execution_count": 22,
   "metadata": {},
   "outputs": [
    {
     "data": {
      "image/png": "[encoded data removed]",
      "text/plain": [
       "<matplotlib.figure.Figure at 0x11a5c2b00>"
      ]
     },
     "metadata": {},
     "output_type": "display_data"
    },
    {
     "data": {
      "text/plain": [
       "<matplotlib.figure.Figure at 0x11a8f1cf8>"
      ]
     },
     "metadata": {},
     "output_type": "display_data"
    }
   ],
   "source": [
    "# Plot rain_df\n",
    "rain_df.plot('date', 'prcp')\n",
    "plt.xlabel(\"Date\")\n",
    "plt.ylabel(\"Rain in Inches\")\n",
    "plt.title(\"Precipitation Analysis (8/24/2016 - 8/23/2017)\")\n",
    "plt.legend([\"Precipitation\"])\n",
    "plt.xticks(rotation=45)\n",
    "plt.tight_layout()\n",
    "\n",
    "fig = plt.figure()\n",
    "fig.savefig('precipitation_analysis.png')\n",
    "\n",
    "plt.show()"
   ]
  },
  {
   "cell_type": "code",
   "execution_count": 24,
   "metadata": {},
   "outputs": [
    {
     "data": {
      "text/html": [
       "<div>\n",
       "<style scoped>\n",
       "    .dataframe tbody tr th:only-of-type {\n",
       "        vertical-align: middle;\n",
       "    }\n",
       "\n",
       "    .dataframe tbody tr th {\n",
       "        vertical-align: top;\n",
       "    }\n",
       "\n",
       "    .dataframe thead th {\n",
       "        text-align: right;\n",
       "    }\n",
       "</style>\n",
       "<table border=\"1\" class=\"dataframe\">\n",
       "  <thead>\n",
       "    <tr style=\"text-align: right;\">\n",
       "      <th></th>\n",
       "      <th>prcp</th>\n",
       "    </tr>\n",
       "  </thead>\n",
       "  <tbody>\n",
       "    <tr>\n",
       "      <th>count</th>\n",
       "      <td>2015.000000</td>\n",
       "    </tr>\n",
       "    <tr>\n",
       "      <th>mean</th>\n",
       "      <td>0.176462</td>\n",
       "    </tr>\n",
       "    <tr>\n",
       "      <th>std</th>\n",
       "      <td>0.460288</td>\n",
       "    </tr>\n",
       "    <tr>\n",
       "      <th>min</th>\n",
       "      <td>0.000000</td>\n",
       "    </tr>\n",
       "    <tr>\n",
       "      <th>25%</th>\n",
       "      <td>0.000000</td>\n",
       "    </tr>\n",
       "    <tr>\n",
       "      <th>50%</th>\n",
       "      <td>0.020000</td>\n",
       "    </tr>\n",
       "    <tr>\n",
       "      <th>75%</th>\n",
       "      <td>0.130000</td>\n",
       "    </tr>\n",
       "    <tr>\n",
       "      <th>max</th>\n",
       "      <td>6.700000</td>\n",
       "    </tr>\n",
       "  </tbody>\n",
       "</table>\n",
       "</div>"
      ],
      "text/plain": [
       "              prcp\n",
       "count  2015.000000\n",
       "mean      0.176462\n",
       "std       0.460288\n",
       "min       0.000000\n",
       "25%       0.000000\n",
       "50%       0.020000\n",
       "75%       0.130000\n",
       "max       6.700000"
      ]
     },
     "execution_count": 24,
     "metadata": {},
     "output_type": "execute_result"
    }
   ],
   "source": [
    "# Summary Statistics of Precipitaiton Data\n",
    "rain_df.describe()"
   ]
  },
  {
   "cell_type": "code",
   "execution_count": 25,
   "metadata": {},
   "outputs": [
    {
     "name": "stdout",
     "output_type": "stream",
     "text": [
      "There are 9 stations.\n"
     ]
    }
   ],
   "source": [
    "# STATION ANALYSIS\n",
    "\n",
    "# Total number or stations in Measurement table\n",
    "locations = session.query(Measurements).group_by(Measurements.station).count()\n",
    "print(f\"There are {locations} stations.\")"
   ]
  },
  {
   "cell_type": "code",
   "execution_count": 26,
   "metadata": {},
   "outputs": [
    {
     "name": "stdout",
     "output_type": "stream",
     "text": [
      "The busiest station was USC00519281 with 2772, weather observations\n",
      "------------------------------------------------------\n",
      "Stations and number of observations in descending order: \n",
      "Station USC00519281 had 2772 weather observations.\n",
      "Station USC00513117 had 2696 weather observations.\n",
      "Station USC00519397 had 2685 weather observations.\n",
      "Station USC00519523 had 2572 weather observations.\n",
      "Station USC00516128 had 2484 weather observations.\n",
      "Station USC00514830 had 1937 weather observations.\n",
      "Station USC00511918 had 1932 weather observations.\n",
      "Station USC00517948 had 683 weather observations.\n",
      "Station USC00518838 had 342 weather observations.\n"
     ]
    }
   ],
   "source": [
    "# List the stations and observation counts in descending order\n",
    "# Which station has the highest number of observations\n",
    "busy_station = session.query(Measurements.station, func.count(Measurements.tobs)).\\\n",
    "                            group_by(Measurements.station).\\\n",
    "                            order_by(func.count(Measurements.tobs).desc()).all()\n",
    "\n",
    "busiest = busy_station[0][0]\n",
    "print(f\"The busiest station was {busiest} with {busy_station[0][1]}, weather observations\")\n",
    "print(\"------------------------------------------------------\")\n",
    "print(\"Stations and number of observations in descending order: \")\n",
    "for station, count in busy_station:\n",
    "    print(f\"Station {station} had {count} weather observations.\")"
   ]
  },
  {
   "cell_type": "code",
   "execution_count": 27,
   "metadata": {},
   "outputs": [],
   "source": [
    "# Query to pull the last year of precipitation data for the busiest station\n",
    "temp = session.query(Measurements.station, Measurements.date, Measurements.tobs).\\\n",
    "    filter(Measurements.station == busiest).\\\n",
    "    filter(Measurements.date > last_year).\\\n",
    "    order_by(Measurements.date).all()"
   ]
  },
  {
   "cell_type": "code",
   "execution_count": 28,
   "metadata": {},
   "outputs": [
    {
     "data": {
      "image/png": "[encoded data removed]",
      "text/plain": [
       "<matplotlib.figure.Figure at 0x11a6ee588>"
      ]
     },
     "metadata": {},
     "output_type": "display_data"
    },
    {
     "data": {
      "text/plain": [
       "<matplotlib.figure.Figure at 0x11a8fb438>"
      ]
     },
     "metadata": {},
     "output_type": "display_data"
    }
   ],
   "source": [
    "# Plot temp data in histogram with 12 bins\n",
    "temp_df = pd.DataFrame(temp)\n",
    "plt.hist(temp_df['tobs'],12)\n",
    "plt.xlabel(\"Recorded Temperature\")\n",
    "plt.ylabel(\"Number of Recorded Observations\")\n",
    "plt.title(f\"Station {busiest} Analysis (8/24/2016 - 8/23/2017)\")\n",
    "\n",
    "fig = plt.figure()\n",
    "fig.savefig('busiest_station_analysis.png')\n",
    "\n",
    "plt.show()"
   ]
  },
  {
   "cell_type": "code",
   "execution_count": 29,
   "metadata": {},
   "outputs": [
    {
     "name": "stdout",
     "output_type": "stream",
     "text": [
      "[(71.0, 77.34848484848484, 83.0)]\n"
     ]
    }
   ],
   "source": [
    "# TEMPERATURE ANALYSIS\n",
    "\n",
    "# Write a function called calc_temps that will accept a start date and end date in the format \n",
    "#%Y-%m-%d and return the minimum, average, and maximum temperatures for that range of dates.\n",
    "def calc_temps(start_date, end_date):\n",
    "    return session.query(func.min(Measurements.tobs), func.avg(Measurements.tobs), func.max(Measurements.tobs)).\\\n",
    "        filter(Measurements.date >= start_date).filter(Measurements.date <= end_date).all()\n",
    "temp_range = (calc_temps('2016-07-05', '2016-07-28'))\n",
    "print(temp_range)"
   ]
  },
  {
   "cell_type": "code",
   "execution_count": 30,
   "metadata": {},
   "outputs": [
    {
     "name": "stdout",
     "output_type": "stream",
     "text": [
      "[(70.0, 79.0909090909091, 84.0)]\n"
     ]
    }
   ],
   "source": [
    "# Calculate min/max/avg temps form last year that matches my trip date\n",
    "trip_start = dt.date(2018, 8, 1)\n",
    "trip_end = dt.date(2018, 8, 15)\n",
    "year_ago = dt.timedelta(days=365)\n",
    "temp_avg_last_year = (calc_temps((trip_start - year_ago), (trip_end - year_ago)))\n",
    "print(temp_avg_last_year)"
   ]
  },
  {
   "cell_type": "code",
   "execution_count": 33,
   "metadata": {},
   "outputs": [
    {
     "data": {
      "image/png": "[encoded data removed]",
      "text/plain": [
       "<matplotlib.figure.Figure at 0x11a8e6e80>"
      ]
     },
     "metadata": {},
     "output_type": "display_data"
    }
   ],
   "source": [
    "# Plotting the data as a boxplot (to show min/max/avg temps)\n",
    "fig, ax = plt.subplots()\n",
    "x = range(len(temp_avg_last_year))\n",
    "ax.boxplot(temp_avg_last_year, patch_artist=True)\n",
    "ax.set_title('Trip Average Temperature From Prior Year')\n",
    "ax.set_ylabel(\"Temperature\")\n",
    "ax.set_xlabel(\"Trip\")\n",
    "fig.tight_layout()\n",
    "plt.show()"
   ]
  },
  {
   "cell_type": "code",
   "execution_count": 35,
   "metadata": {},
   "outputs": [
    {
     "data": {
      "image/png": "[encoded data removed]",
      "text/plain": [
       "<matplotlib.figure.Figure at 0x11a8c18d0>"
      ]
     },
     "metadata": {},
     "output_type": "display_data"
    },
    {
     "data": {
      "text/plain": [
       "<matplotlib.figure.Figure at 0x11a5c2da0>"
      ]
     },
     "metadata": {},
     "output_type": "display_data"
    }
   ],
   "source": [
    "# Plot the calculated min/max/avg from last year for the trip dates as a bar chart\n",
    "\n",
    "p2p = temp_avg_last_year[0][2]-temp_avg_last_year[0][0]\n",
    "avgtemp = temp_avg_last_year[0][1]\n",
    "min_temp = temp_avg_last_year[0][0]\n",
    "max_temp = temp_avg_last_year[0][2]\n",
    "\n",
    "fig, ax = plt.subplots()\n",
    "bar_chart = ax.bar(1 , avgtemp, color= 'lightblue', yerr=p2p)\n",
    "ax.set_xlabel(\"Trip\")\n",
    "ax.set_ylabel(\"Temperature (F)\")\n",
    "ax.set_title(\"Trip Average Temperature\")\n",
    "\n",
    "def autolabels(rects):\n",
    "   for rect in rects:\n",
    "        h=rect.get_height()\n",
    "        ax.text(rect.get_x() + rect.get_width()/2., .6*h,'%.2f' % float(h) ,ha='center', va='bottom', fontsize=10)\n",
    "\n",
    "        \n",
    "    # label the bars \n",
    "autolabels(bar_chart)        \n",
    "plt.ylim(0, 100)\n",
    "plt.xlim(0,2)\n",
    "fig.tight_layout()\n",
    "\n",
    "fig = plt.figure()\n",
    "fig.savefig('trip_avg_temp.png')\n",
    "\n",
    "plt.show()"
   ]
  },
  {
   "cell_type": "code",
   "execution_count": 36,
   "metadata": {},
   "outputs": [
    {
     "data": {
      "text/plain": [
       "[('USC00513117', 365),\n",
       " ('USC00514830', 261),\n",
       " ('USC00516128', 331),\n",
       " ('USC00517948', 67),\n",
       " ('USC00519281', 365),\n",
       " ('USC00519397', 361),\n",
       " ('USC00519523', 320)]"
      ]
     },
     "execution_count": 36,
     "metadata": {},
     "output_type": "execute_result"
    }
   ],
   "source": [
    "# EXTRA ANALYSIS\n",
    "Rainfall_results = session.query(Measurements.station, func.count(Measurements.prcp)).\\\n",
    "                   group_by(Measurements.station).filter(Measurements.date.between('2016-08-01', '2017-08-01')).all()\n",
    "Rainfall_results"
   ]
  },
  {
   "cell_type": "code",
   "execution_count": 37,
   "metadata": {},
   "outputs": [
    {
     "data": {
      "text/plain": [
       "[(datetime.date(2010, 8, 15)),\n",
       " (datetime.date(2011, 8, 15)),\n",
       " (datetime.date(2012, 8, 15)),\n",
       " (datetime.date(2013, 8, 15)),\n",
       " (datetime.date(2014, 8, 15)),\n",
       " (datetime.date(2015, 8, 15)),\n",
       " (datetime.date(2016, 8, 15)),\n",
       " (datetime.date(2017, 8, 15))]"
      ]
     },
     "execution_count": 37,
     "metadata": {},
     "output_type": "execute_result"
    }
   ],
   "source": [
    "from sqlalchemy import extract  \n",
    "trip_month=8\n",
    "trip_days=range(1, 16)\n",
    "for i in range(1, 16):\n",
    "    subquery=session.query(Measurements.date).filter(extract('month', Measurements.date)==trip_month).\\\n",
    "             filter(extract('day', Measurements.date)== i ).group_by(Measurements.date).order_by(Measurements.date).all()\n",
    "subquery"
   ]
  },
  {
   "cell_type": "code",
   "execution_count": 38,
   "metadata": {},
   "outputs": [
    {
     "name": "stdout",
     "output_type": "stream",
     "text": [
      "(datetime.date(2010, 8, 1), 77.0, 71.0, 73.42857142857143)\n",
      "(datetime.date(2011, 8, 1), 78.0, 67.0, 73.28571428571429)\n",
      "(datetime.date(2012, 8, 1), 79.0, 71.0, 75.85714285714286)\n",
      "(datetime.date(2013, 8, 1), 79.0, 75.0, 76.83333333333333)\n",
      "(datetime.date(2014, 8, 1), 83.0, 73.0, 77.42857142857143)\n",
      "(datetime.date(2015, 8, 1), 79.0, 73.0, 77.4)\n",
      "(datetime.date(2016, 8, 1), 77.0, 73.0, 75.8)\n",
      "(datetime.date(2017, 8, 1), 77.0, 74.0, 75.33333333333333)\n",
      "(datetime.date(2010, 8, 2), 76.0, 70.0, 72.875)\n",
      "(datetime.date(2011, 8, 2), 77.0, 70.0, 73.57142857142857)\n",
      "(datetime.date(2012, 8, 2), 78.0, 68.0, 73.5)\n",
      "(datetime.date(2013, 8, 2), 78.0, 72.0, 75.33333333333333)\n",
      "(datetime.date(2014, 8, 2), 81.0, 73.0, 77.71428571428571)\n",
      "(datetime.date(2015, 8, 2), 84.0, 76.0, 80.0)\n",
      "(datetime.date(2016, 8, 2), 80.0, 72.0, 76.57142857142857)\n",
      "(datetime.date(2017, 8, 2), 83.0, 73.0, 79.0)\n",
      "(datetime.date(2010, 8, 3), 77.0, 70.0, 73.11111111111111)\n",
      "(datetime.date(2011, 8, 3), 78.0, 71.0, 75.25)\n",
      "(datetime.date(2012, 8, 3), 78.0, 72.0, 74.57142857142857)\n",
      "(datetime.date(2013, 8, 3), 79.0, 72.0, 76.66666666666667)\n",
      "(datetime.date(2014, 8, 3), 83.0, 74.0, 78.33333333333333)\n",
      "(datetime.date(2015, 8, 3), 81.0, 75.0, 78.4)\n",
      "(datetime.date(2016, 8, 3), 82.0, 76.0, 79.16666666666667)\n",
      "(datetime.date(2017, 8, 3), 81.0, 76.0, 79.0)\n",
      "(datetime.date(2010, 8, 4), 77.0, 69.0, 73.44444444444444)\n",
      "(datetime.date(2011, 8, 4), 77.0, 74.0, 75.42857142857143)\n",
      "(datetime.date(2012, 8, 4), 80.0, 72.0, 76.33333333333333)\n",
      "(datetime.date(2013, 8, 4), 79.0, 69.0, 76.66666666666667)\n",
      "(datetime.date(2014, 8, 4), 83.0, 74.0, 79.2)\n",
      "(datetime.date(2015, 8, 4), 84.0, 69.0, 76.83333333333333)\n",
      "(datetime.date(2016, 8, 4), 81.0, 76.0, 78.8)\n",
      "(datetime.date(2017, 8, 4), 82.0, 77.0, 80.0)\n",
      "(datetime.date(2010, 8, 5), 75.0, 69.0, 71.77777777777777)\n",
      "(datetime.date(2011, 8, 5), 79.0, 73.0, 76.28571428571429)\n",
      "(datetime.date(2012, 8, 5), 82.0, 70.0, 76.5)\n",
      "(datetime.date(2013, 8, 5), 79.0, 69.0, 74.71428571428571)\n",
      "(datetime.date(2014, 8, 5), 80.0, 74.0, 77.33333333333333)\n",
      "(datetime.date(2015, 8, 5), 82.0, 74.0, 77.66666666666667)\n",
      "(datetime.date(2016, 8, 5), 81.0, 77.0, 79.2)\n",
      "(datetime.date(2017, 8, 5), 82.0, 81.0, 81.5)\n",
      "(datetime.date(2010, 8, 6), 77.0, 70.0, 74.44444444444444)\n",
      "(datetime.date(2011, 8, 6), 78.0, 72.0, 75.16666666666667)\n",
      "(datetime.date(2012, 8, 6), 78.0, 67.0, 73.14285714285714)\n",
      "(datetime.date(2013, 8, 6), 80.0, 74.0, 76.28571428571429)\n",
      "(datetime.date(2014, 8, 6), 78.0, 71.0, 75.28571428571429)\n",
      "(datetime.date(2015, 8, 6), 81.0, 74.0, 77.33333333333333)\n",
      "(datetime.date(2016, 8, 6), 80.0, 76.0, 78.25)\n",
      "(datetime.date(2017, 8, 6), 83.0, 80.0, 82.0)\n",
      "(datetime.date(2010, 8, 7), 80.0, 72.0, 75.625)\n",
      "(datetime.date(2011, 8, 7), 79.0, 76.0, 77.57142857142857)\n",
      "(datetime.date(2012, 8, 7), 77.0, 71.0, 74.33333333333333)\n",
      "(datetime.date(2013, 8, 7), 81.0, 72.0, 76.28571428571429)\n",
      "(datetime.date(2014, 8, 7), 81.0, 74.0, 77.5)\n",
      "(datetime.date(2015, 8, 7), 82.0, 73.0, 78.0)\n",
      "(datetime.date(2016, 8, 7), 83.0, 77.0, 78.83333333333333)\n",
      "(datetime.date(2017, 8, 7), 83.0, 78.0, 80.5)\n",
      "(datetime.date(2010, 8, 8), 78.0, 71.0, 74.57142857142857)\n",
      "(datetime.date(2011, 8, 8), 78.0, 70.0, 75.57142857142857)\n",
      "(datetime.date(2012, 8, 8), 78.0, 71.0, 74.0)\n",
      "(datetime.date(2013, 8, 8), 81.0, 68.0, 74.625)\n",
      "(datetime.date(2014, 8, 8), 79.0, 73.0, 76.4)\n",
      "(datetime.date(2015, 8, 8), 82.0, 76.0, 79.4)\n",
      "(datetime.date(2016, 8, 8), 83.0, 75.0, 80.0)\n",
      "(datetime.date(2017, 8, 8), 82.0, 74.0, 78.5)\n",
      "(datetime.date(2010, 8, 9), 79.0, 72.0, 75.625)\n",
      "(datetime.date(2011, 8, 9), 79.0, 71.0, 75.42857142857143)\n",
      "(datetime.date(2012, 8, 9), 78.0, 69.0, 74.66666666666667)\n",
      "(datetime.date(2013, 8, 9), 80.0, 70.0, 74.75)\n",
      "(datetime.date(2014, 8, 9), 81.0, 73.0, 76.66666666666667)\n",
      "(datetime.date(2015, 8, 9), 79.0, 73.0, 75.75)\n",
      "(datetime.date(2016, 8, 9), 81.0, 73.0, 78.66666666666667)\n",
      "(datetime.date(2017, 8, 9), 81.0, 71.0, 77.33333333333333)\n",
      "(datetime.date(2010, 8, 10), 83.0, 72.0, 76.22222222222223)\n",
      "(datetime.date(2011, 8, 10), 79.0, 71.0, 75.33333333333333)\n",
      "(datetime.date(2012, 8, 10), 76.0, 65.0, 72.66666666666667)\n",
      "(datetime.date(2013, 8, 10), 76.0, 71.0, 73.33333333333333)\n",
      "(datetime.date(2014, 8, 10), 82.0, 73.0, 77.2)\n",
      "(datetime.date(2015, 8, 10), 81.0, 75.0, 78.33333333333333)\n",
      "(datetime.date(2016, 8, 10), 82.0, 76.0, 79.83333333333333)\n",
      "(datetime.date(2017, 8, 10), 81.0, 75.0, 79.25)\n",
      "(datetime.date(2010, 8, 11), 77.0, 69.0, 73.22222222222223)\n",
      "(datetime.date(2011, 8, 11), 80.0, 73.0, 76.14285714285714)\n",
      "(datetime.date(2012, 8, 11), 78.0, 67.0, 73.33333333333333)\n",
      "(datetime.date(2013, 8, 11), 82.0, 72.0, 77.33333333333333)\n",
      "(datetime.date(2014, 8, 11), 74.0, 68.0, 70.75)\n",
      "(datetime.date(2015, 8, 11), 82.0, 73.0, 78.5)\n",
      "(datetime.date(2016, 8, 11), 80.0, 74.0, 78.33333333333333)\n",
      "(datetime.date(2017, 8, 11), 81.0, 78.0, 80.0)\n",
      "(datetime.date(2010, 8, 12), 77.0, 71.0, 74.875)\n",
      "(datetime.date(2011, 8, 12), 78.0, 67.0, 74.85714285714286)\n",
      "(datetime.date(2012, 8, 12), 81.0, 69.0, 76.16666666666667)\n",
      "(datetime.date(2013, 8, 12), 79.0, 74.0, 76.16666666666667)\n",
      "(datetime.date(2014, 8, 12), 81.0, 70.0, 75.57142857142857)\n",
      "(datetime.date(2015, 8, 12), 83.0, 76.0, 80.0)\n",
      "(datetime.date(2016, 8, 12), 81.0, 71.0, 76.66666666666667)\n",
      "(datetime.date(2017, 8, 12), 83.0, 74.0, 79.0)\n",
      "(datetime.date(2010, 8, 13), 80.0, 71.0, 76.0)\n",
      "(datetime.date(2011, 8, 13), 78.0, 73.0, 75.5)\n",
      "(datetime.date(2012, 8, 13), 81.0, 73.0, 76.0)\n",
      "(datetime.date(2013, 8, 13), 79.0, 73.0, 75.57142857142857)\n",
      "(datetime.date(2014, 8, 13), 81.0, 71.0, 75.875)\n",
      "(datetime.date(2015, 8, 13), 83.0, 75.0, 79.0)\n",
      "(datetime.date(2016, 8, 13), 83.0, 74.0, 79.0)\n",
      "(datetime.date(2017, 8, 13), 84.0, 77.0, 80.66666666666667)\n",
      "(datetime.date(2010, 8, 14), 78.0, 71.0, 76.14285714285714)\n",
      "(datetime.date(2011, 8, 14), 80.0, 74.0, 77.0)\n",
      "(datetime.date(2012, 8, 14), 77.0, 72.0, 74.0)\n",
      "(datetime.date(2013, 8, 14), 79.0, 73.0, 76.14285714285714)\n",
      "(datetime.date(2014, 8, 14), 80.0, 71.0, 77.0)\n",
      "(datetime.date(2015, 8, 14), 82.0, 74.0, 78.14285714285714)\n",
      "(datetime.date(2016, 8, 14), 82.0, 72.0, 77.2)\n",
      "(datetime.date(2017, 8, 14), 81.0, 75.0, 78.2)\n",
      "(datetime.date(2010, 8, 15), 79.0, 72.0, 75.57142857142857)\n",
      "(datetime.date(2011, 8, 15), 80.0, 74.0, 76.42857142857143)\n",
      "(datetime.date(2012, 8, 15), 79.0, 73.0, 75.57142857142857)\n",
      "(datetime.date(2013, 8, 15), 79.0, 69.0, 75.33333333333333)\n",
      "(datetime.date(2014, 8, 15), 80.0, 70.0, 75.42857142857143)\n",
      "(datetime.date(2015, 8, 15), 83.0, 73.0, 79.16666666666667)\n",
      "(datetime.date(2016, 8, 15), 81.0, 72.0, 76.8)\n",
      "(datetime.date(2017, 8, 15), 82.0, 70.0, 77.2)\n"
     ]
    }
   ],
   "source": [
    "dates=[]\n",
    "daily_normals_Three_AVG=[]\n",
    "daily_normals_TMAX=[]\n",
    "daily_normals_TMIN=[]\n",
    "daily_normals_TAVG=[]\n",
    "\n",
    "trip_month=8\n",
    "trip_days=range(1, 16)\n",
    "\n",
    "def daily_normals():\n",
    "    \n",
    "    for i in range(1,16):\n",
    "        results=session.query(Measurements.date.label(\"dates\"), func.max(Measurements.tobs).label(\"max_tobs\"),\\\n",
    "                             func.min(Measurements.tobs).label(\"min_tobs\"),func.avg(Measurements.tobs).label(\"avg_tobs\")).\\\n",
    "                             filter(extract('month', Measurements.date)==trip_month).\\\n",
    "                             filter(extract('day', Measurements.date)== i ).group_by(Measurements.date).order_by(Measurements.date)\n",
    "        results\n",
    "        for res in results.all():\n",
    "             print( res)\n",
    "        \n",
    "        res\n",
    "        TMAX = res.max_tobs\n",
    "        TMIN= res.min_tobs\n",
    "        TAVG= res.avg_tobs\n",
    "        Date= res.dates\n",
    "        \n",
    "        data = [TMAX, TMIN, TAVG]\n",
    "        #avg = [float(sum(col))/len(col) for col in zip(*data)]\n",
    "\n",
    "        dates.append(Date)\n",
    "        #daily_normals_Three_AVG.append(avg)\n",
    "        daily_normals_TMAX.append(TMAX)\n",
    "        daily_normals_TMIN.append(TMIN)\n",
    "        daily_normals_TAVG.append(TAVG)\n",
    "        \n",
    "daily_normals()"
   ]
  },
  {
   "cell_type": "code",
   "execution_count": 39,
   "metadata": {},
   "outputs": [
    {
     "data": {
      "text/html": [
       "<div>\n",
       "<style scoped>\n",
       "    .dataframe tbody tr th:only-of-type {\n",
       "        vertical-align: middle;\n",
       "    }\n",
       "\n",
       "    .dataframe tbody tr th {\n",
       "        vertical-align: top;\n",
       "    }\n",
       "\n",
       "    .dataframe thead th {\n",
       "        text-align: right;\n",
       "    }\n",
       "</style>\n",
       "<table border=\"1\" class=\"dataframe\">\n",
       "  <thead>\n",
       "    <tr style=\"text-align: right;\">\n",
       "      <th></th>\n",
       "      <th>TAVG</th>\n",
       "      <th>TMAX</th>\n",
       "      <th>TMIN</th>\n",
       "    </tr>\n",
       "    <tr>\n",
       "      <th>Date</th>\n",
       "      <th></th>\n",
       "      <th></th>\n",
       "      <th></th>\n",
       "    </tr>\n",
       "  </thead>\n",
       "  <tbody>\n",
       "    <tr>\n",
       "      <th>2017-08-01</th>\n",
       "      <td>75.333333</td>\n",
       "      <td>77.0</td>\n",
       "      <td>74.0</td>\n",
       "    </tr>\n",
       "    <tr>\n",
       "      <th>2017-08-02</th>\n",
       "      <td>79.000000</td>\n",
       "      <td>83.0</td>\n",
       "      <td>73.0</td>\n",
       "    </tr>\n",
       "    <tr>\n",
       "      <th>2017-08-03</th>\n",
       "      <td>79.000000</td>\n",
       "      <td>81.0</td>\n",
       "      <td>76.0</td>\n",
       "    </tr>\n",
       "    <tr>\n",
       "      <th>2017-08-04</th>\n",
       "      <td>80.000000</td>\n",
       "      <td>82.0</td>\n",
       "      <td>77.0</td>\n",
       "    </tr>\n",
       "    <tr>\n",
       "      <th>2017-08-05</th>\n",
       "      <td>81.500000</td>\n",
       "      <td>82.0</td>\n",
       "      <td>81.0</td>\n",
       "    </tr>\n",
       "  </tbody>\n",
       "</table>\n",
       "</div>"
      ],
      "text/plain": [
       "                 TAVG  TMAX  TMIN\n",
       "Date                             \n",
       "2017-08-01  75.333333  77.0  74.0\n",
       "2017-08-02  79.000000  83.0  73.0\n",
       "2017-08-03  79.000000  81.0  76.0\n",
       "2017-08-04  80.000000  82.0  77.0\n",
       "2017-08-05  81.500000  82.0  81.0"
      ]
     },
     "execution_count": 39,
     "metadata": {},
     "output_type": "execute_result"
    }
   ],
   "source": [
    "# Create DataFrame\n",
    "Daily_normals_df= pd.DataFrame({'Date': dates, 'TMAX': daily_normals_TMAX, 'TMIN': daily_normals_TMIN,'TAVG': daily_normals_TAVG,})\n",
    "\n",
    "# Reset Index\n",
    "Daily_normals_df.set_index('Date', inplace=True, )\n",
    "\n",
    "Daily_normals_df.head()"
   ]
  },
  {
   "cell_type": "code",
   "execution_count": 40,
   "metadata": {},
   "outputs": [
    {
     "data": {
      "image/png": "[encoded data removed]",
      "text/plain": [
       "<matplotlib.figure.Figure at 0x11a776f60>"
      ]
     },
     "metadata": {},
     "output_type": "display_data"
    },
    {
     "data": {
      "text/plain": [
       "<matplotlib.figure.Figure at 0x11a77dcc0>"
      ]
     },
     "metadata": {},
     "output_type": "display_data"
    }
   ],
   "source": [
    "# Plot Graph\n",
    "Daily_normals_df.plot.area(stacked=False, title='Daily Normals of Temperature in Hawaii')\n",
    "plt.xlabel('Date')\n",
    "plt.ylabel('Temperature (F)')\n",
    "plt.xticks(rotation=45)\n",
    "\n",
    "fig = plt.figure()\n",
    "fig.savefig('daily_normals_temp.png')\n",
    "\n",
    "plt.show()"
   ]
  },
  {
   "cell_type": "code",
   "execution_count": null,
   "metadata": {},
   "outputs": [],
   "source": []
  }
 ],
 "metadata": {
  "kernelspec": {
   "display_name": "Python 3",
   "language": "python",
   "name": "python3"
  },
  "language_info": {
   "codemirror_mode": {
    "name": "ipython",
    "version": 3
   },
   "file_extension": ".py",
   "mimetype": "text/x-python",
   "name": "python",
   "nbconvert_exporter": "python",
   "pygments_lexer": "ipython3",
   "version": "3.6.4"
  }
 },
 "nbformat": 4,
 "nbformat_minor": 2
}
